{
 "cells": [
  {
   "cell_type": "markdown",
   "id": "4ce1cd7e-5755-4074-b82c-a4932bbb6698",
   "metadata": {},
   "source": [
    "### Лабораторна робота №3\n",
    "__Мета__ _освоети роботи зї змінними та операцї вводу и виводу_\n",
    "\n",
    "\n",
    "### __Приклад__\n",
    "Написати програму, яка вводить довжины катерив `a` та `b` прямокутника та обчислуе його гіпотенузу `c`.\n"
   ]
  },
  {
   "cell_type": "code",
   "execution_count": null,
   "id": "1ead5152-4add-4909-b46d-3a89f35e5bd2",
   "metadata": {},
   "outputs": [],
   "source": [
    "import math\n",
    "\n",
    "a = float(input(\"Уведіть значення a:  \"))\n",
    "b = float(input(\"Уведіть значення b:  \"))\n",
    "\n",
    "# Калькулятор гіпотенузи c\n",
    "c = math.sqrt(a**2 + b**2)\n",
    "\n",
    "# Виведення результату\n",
    "print(\"с =\", c)\n",
    "\n",
    "# Перевірка результату\n",
    "if math.isclose(c, 5.0):\n",
    "    print(\"Обчислена гіпотенуза збігається з відомим значенням  c = 5.0 \")\n",
    "else:\n",
    "    print(\"Обчислена гіпотенуза не збігається з відомим значенням  c = 5.0 \")"
   ]
  },
  {
   "attachments": {
    "0a18ee29-4ffe-468a-8b81-1c1f87c7d31e.png": {
     "image/png": "[encoded data removed]"
    }
   },
   "cell_type": "markdown",
   "id": "b582a669-76f5-4a81-9838-a9d33709c60f",
   "metadata": {},
   "source": [
    "### Завдання №1\n",
    "Написати програму, яка обчислює значення функції Гауса:\n",
    "\n",
    "\n",
    "![Знімок екрана 2024-09-26 164500.png](attachment:0a18ee29-4ffe-468a-8b81-1c1f87c7d31e.png)"
   ]
  },
  {
   "cell_type": "code",
   "execution_count": null,
   "id": "c2dd24a8-18a1-43e7-8adf-8e35e3d4a4a5",
   "metadata": {},
   "outputs": [],
   "source": [
    "import math\n",
    "\n",
    "def gauss(x, mu=32, sigma=18):\n",
    "    return (1 / (sigma * math.sqrt(2 * math.pi))) * math.exp(- ((x - mu) ** 2) / (2 * sigma ** 2))\n",
    "\n",
    "# print(gauss(1))\n",
    "\n",
    "# print(gauss(1, mu=32, sigma=18))\n",
    "\n",
    "x = int(input(\"Уведіть x: \"))\n",
    "\n",
    "print(f\"x= {x}: {gauss (1, mu=32, sigma=18 )}\")\n",
    "\n"
   ]
  },
  {
   "cell_type": "markdown",
   "id": "2c9bc5e4-069d-46fc-ac06-6cc6b07f0fa0",
   "metadata": {},
   "source": [
    "### Завдання №2\n",
    "Якось Джон (John) мав три яблука, Мері (Mary) мала п’ять яблук, а Адам (Adam) мав шість яблук. Усі вони були дуже щасливі та жили довго. Кінець історії\n",
    "Завдання \n",
    "\n",
    "* створіть змінні: `john`, `mary`, і `adam`;\n",
    "\n",
    "* надайте значення змінним. Значення повинні дорівнювати кількості фруктів, якими володіють Джон, Мері, і Адам відповідно;\n",
    "\n",
    "* зберігши числа в змінних, виведіть змінні в один рядок і розділіть їх комами;\n",
    "\n",
    "* тепер створіть нову змінну з ім'ям `totalApple`, що дорівнює сумі трьох попередніх змінних;\n",
    "\n",
    "* вивести значення, збережене в `totalapples`, в консоль;\n",
    "\n",
    "* надрукувати рядок та ціле число разом в одному рядку, наприклад, \"Загальна кількість яблук:\" та `total_apples`|."
   ]
  },
  {
   "cell_type": "code",
   "execution_count": null,
   "id": "4a30ca02-f436-4161-9bd0-a02c24dd5b95",
   "metadata": {},
   "outputs": [],
   "source": [
    "john = 3\n",
    "mary = 5\n",
    "adam = 6\n",
    "\n",
    "print(f\"John: {john}, Mary: {mary}, Adam: {adam}\")\n",
    "\n",
    "totalApples = john + mary + adam\n",
    "\n",
    "print(f\"Загальна кількість яблук {totalApples}\")"
   ]
  },
  {
   "cell_type": "markdown",
   "id": "a8a6e771-8d1b-4e65-aac1-b24db03c78ec",
   "metadata": {},
   "source": [
    "John: 3, Mary: 5, Adam: 6\n",
    "\n",
    "Загальна кількість яблук 14"
   ]
  },
  {
   "cell_type": "markdown",
   "id": "8084741d-9085-4dc7-b717-93e5efb3f07b",
   "metadata": {},
   "source": [
    "### Завдання №3\n",
    "Милі та кілометри – це одиниці довжини або відстані.\n",
    "\n",
    "Враховуючи, що 1 миля дорівнює приблизно 1.61 кілометрам, напишіть програму, щоб вона перетворила:\n",
    "\n",
    "милі у кілометри;\n",
    "\n",
    "кілометри на милі.\n",
    "\n",
    "Не змінюйте нічого в існуючому коді. Напишіть свій код у місцях, вказаних ###. Протестуйте вашу програму з даними, які надано у вихідному коді."
   ]
  },
  {
   "cell_type": "code",
   "execution_count": null,
   "id": "5fcf62e1-8a1a-4b64-8a6d-526e8890d2a5",
   "metadata": {},
   "outputs": [],
   "source": [
    "kilometers = 12.25\n",
    "miles = 7.38\n",
    "\n",
    "# miles to kilometers\n",
    "miles_to_kilometers = miles * 1.61\n",
    "\n",
    "# kilometers to miles\n",
    "kilometers_to_miles = kilometers / 1.61\n",
    "\n",
    "print(miles, \"miles is\", round(miles_to_kilometers, 2), \"kilometers\")\n",
    "print(kilometers, \"kilometers is\", round(kilometers_to_miles, 2), \"miles\")"
   ]
  },
  {
   "cell_type": "markdown",
   "id": "f551acae-c28c-4a78-898d-ada90f918785",
   "metadata": {},
   "source": [
    "7.38 miles is 11.88 kilometers\n",
    "\n",
    "12.25 kilometers is 7.61 miles"
   ]
  },
  {
   "attachments": {
    "d0c71726-eabb-4898-a273-d1ae49e8c370.png": {
     "image/png": "[encoded data removed]"
    }
   },
   "cell_type": "markdown",
   "id": "29e622f6-65c6-4856-bf65-ea575dbbe301",
   "metadata": {},
   "source": [
    "### Завдання №4\n",
    "Подивіться код у редакторі: він читає “плаваюче” значення, поміщає його у змінну з ім’ям x, і друкує значення змінної з ім’ям y. Ваше завдання - завершити код, щоб оцінити такий вираз:\n",
    "![Знімок екрана 2024-09-26 172942.png](attachment:d0c71726-eabb-4898-a273-d1ae49e8c370.png)"
   ]
  },
  {
   "cell_type": "code",
   "execution_count": null,
   "id": "2c6cdfdd-2546-447b-b92a-ee4abaee70ce",
   "metadata": {},
   "outputs": [],
   "source": [
    "x = 0\n",
    "x = float(x)\n",
    "y = 3 * x**3 - 2 * x**2 + 3**x - 1\n",
    "print(\"y =\", y)\n",
    "\n",
    "x = 1\n",
    "x = float(x)\n",
    "y = 3 * x**3 - 2 * x**2 + 3**x - 1\n",
    "print(\"y =\", y)\n",
    "\n",
    "x = -1\n",
    "x = float(x)\n",
    "y = 3 * x**3 - 2 * x**2 + 3**x - 1\n",
    "print(\"y =\", y)"
   ]
  },
  {
   "cell_type": "markdown",
   "id": "23b27332-876c-4bde-9e13-b41c3a604a95",
   "metadata": {},
   "source": [
    "y = 0.0\n",
    "y = 3.0\n",
    "y = -5.666666666666667"
   ]
  },
  {
   "cell_type": "markdown",
   "id": "5274b1f2-a370-442d-8c53-5a7b85a051fc",
   "metadata": {},
   "source": [
    "### Завдання №5\n",
    "Код редактора містить коментарі. Спробуйте покращити його: додайте або видаліть коментарі там, де ви вважаєте це доречним (так, іноді видалення коментаря може зробити код більш читабельним) і змініть імена змінних там, де, на вашу думку, це покращить розуміння коду."
   ]
  },
  {
   "cell_type": "code",
   "execution_count": null,
   "id": "93ad9b27-1a53-4985-8ce8-e6737d40dfd7",
   "metadata": {},
   "outputs": [],
   "source": [
    "# this program calculates seconds from hours\n",
    "\n",
    "a = 2\n",
    "seconds = 3600\n",
    "print(\"Hours: \", a)\n",
    "# printing the number of seconds in a given number of hours\n",
    "\n",
    "# this program ends after calculating seconds in 3 hours."
   ]
  },
  {
   "cell_type": "markdown",
   "id": "1a62858c-b811-4ae2-a40c-3e541d8afa03",
   "metadata": {},
   "source": [
    "### Завдання №6\n",
    "Ваше завдання – завершити код, щоб отримати результати чотирьох основних арифметичних операцій."
   ]
  },
  {
   "cell_type": "code",
   "execution_count": null,
   "id": "9625bfa6-31a6-411f-b249-0f89d5b9805b",
   "metadata": {},
   "outputs": [],
   "source": [
    "# input a float value for variable a here\n",
    "a = 13\n",
    "# input a float value for variable b here\n",
    "b = 89\n",
    "# output the result of addition here\n",
    "print(\"Addition\", a+b)\n",
    "# output the result of subtraction here\n",
    "print(\"Subtraction\", a-b)\n",
    "# output the result of multiplication here\n",
    "print(\"Multiplication\", a*b)\n",
    "# output the result of division here\n",
    "print(\"Division\", a/b)\n",
    "\n",
    "print(\"\\nThat's all, folks!\")"
   ]
  },
  {
   "cell_type": "markdown",
   "id": "785e5c38-f23f-4412-8fec-1a5901c2bfeb",
   "metadata": {},
   "source": [
    "Addition 102\n",
    "Subtraction -76\n",
    "Multiplication 1157\n",
    "Division 0.14606741573033707\n",
    "That's all, folks!"
   ]
  },
  {
   "attachments": {
    "36c1352e-9b4a-426f-9cf9-b68205a8cc98.png": {
     "image/png": "[encoded data removed]"
    }
   },
   "cell_type": "markdown",
   "id": "33ed81fa-8fa1-4e77-8f74-90f6b0ef1870",
   "metadata": {},
   "source": [
    "### Завдання №7\n",
    "Ваше завдання – завершити код, щоб оцінити такий вираз:\n",
    "\n",
    "![Знімок екрана 2024-09-26 181805.png](attachment:36c1352e-9b4a-426f-9cf9-b68205a8cc98.png)"
   ]
  },
  {
   "cell_type": "code",
   "execution_count": null,
   "id": "97ff90ab-c72f-4d32-88ba-7f5d545a877c",
   "metadata": {},
   "outputs": [],
   "source": [
    "x = float(input(\"Enter value for x: \"))\n",
    "\n",
    "a = x + (1 / x)\n",
    "b = x + (1 / a)\n",
    "c = x + (1 / b)\n",
    "y = x + (1 / c)\n",
    "print(\"y =\", y)\n"
   ]
  },
  {
   "cell_type": "code",
   "execution_count": null,
   "id": "4b49f9e8-dfe5-4e25-ad20-c7aca653192a",
   "metadata": {},
   "outputs": [],
   "source": [
    "x = 1\n",
    "x= float(x)\n",
    "a = x + (1 / x)\n",
    "b = x + (1 / a)\n",
    "c = x + (1 / b)\n",
    "y = (1 / c)\n",
    "print(\"y =\", y)\n",
    "\n",
    "x = 10\n",
    "x= float(x)\n",
    "a = x + (1 / x)\n",
    "b = x + (1 / a)\n",
    "c = x + (1 / b)\n",
    "y = (1 / c)\n",
    "print(\"y =\", y)\n",
    "\n",
    "\n",
    "x = 100\n",
    "x= float(x)\n",
    "a = x + (1 / x)\n",
    "b = x + (1 / a)\n",
    "c = x + (1 / b)\n",
    "y = (1 / c)\n",
    "print(\"y =\", y)\n",
    "\n",
    "\n",
    "x = -5\n",
    "x= float(x)\n",
    "a = x + (1 / x)\n",
    "b = x + (1 / a)\n",
    "c = x + (1 / b)\n",
    "y = (1 / c)\n",
    "print(\"y =\", y)"
   ]
  },
  {
   "cell_type": "markdown",
   "id": "6d32898c-078d-4ecd-9ddb-8a17d6ec88a6",
   "metadata": {},
   "source": [
    "y = 0.6000000000000001\n",
    "\n",
    "y = 0.09901951266867294\n",
    "\n",
    "y = 0.009999000199950014\n",
    "\n",
    "y = -0.19258202567760344\n"
   ]
  },
  {
   "cell_type": "markdown",
   "id": "d3e1d63a-217b-4538-8537-8c663ae7edb5",
   "metadata": {},
   "source": [
    "### Завдання №8\n",
    "Ваше завдання - підготувати простий код, здатний порахувати час закінчення періоду часу, вираженого в кількості хвилин (воно може бути як завгодно великим). Час початку вказується у вигляді пари годин (0..23) та хвилин (0..59). Результат повинен бути надрукований на консолі.\n",
    "\n",
    "Наприклад, якщо подія починається о 12:17 і триває 59 хвилин, вона закінчується о 13:16."
   ]
  },
  {
   "cell_type": "code",
   "execution_count": null,
   "id": "7a0624da-1455-4e55-b796-f226684e6717",
   "metadata": {},
   "outputs": [],
   "source": [
    "# hour = int(input(\"Starting time (hours): \"))\n",
    "start_hours = 12\n",
    "# mins = int(input(\"Starting time (minutes): \"))\n",
    "start_minutes = 17\n",
    "# dura = int(input(\"Event duration (minutes): \"))\n",
    "duration_minutes = 59\n",
    "\n",
    "end_hours = (start_hours + (start_minutes + duration_minutes) // 60) % 24\n",
    "end_minutes = (start_minutes + duration_minutes) % 60\n",
    "\n",
    "print(f\"Закінчення годин {end_hours:02}:{end_minutes:02}\")"
   ]
  },
  {
   "cell_type": "markdown",
   "id": "d0b8d243-c8b8-44d2-8fb7-f4b333f7b370",
   "metadata": {},
   "source": [
    "Закінчення годин 13:16"
   ]
  },
  {
   "attachments": {
    "4aa19fed-3888-49fe-b7ec-faa7a477025b.png": {
     "image/png": "[encoded data removed]"
    }
   },
   "cell_type": "markdown",
   "id": "ef71ed8e-7b4f-4598-a98c-6e91cb6af8a4",
   "metadata": {},
   "source": [
    "### Контрольні запитання\n",
    "1.Який вивод наступного фрагмента? image.png\n",
    "![Знімок екрана 2024-09-26 192034.png](attachment:4aa19fed-3888-49fe-b7ec-faa7a477025b.png)\n"
   ]
  },
  {
   "cell_type": "markdown",
   "id": "21a30313-fb5e-459a-9062-fb5fd143cb8f",
   "metadata": {},
   "source": [
    "Enter a number: >? 89\n",
    "55555555555555555555555555555555555555555555555555555555555555555555555555555555555555555"
   ]
  },
  {
   "attachments": {
    "d3ec7dc1-ee18-4e54-a024-0e1c5838280c.png": {
     "image/png": "[encoded data removed]"
    }
   },
   "cell_type": "markdown",
   "id": "7c746748-225d-4423-b7d0-6679794a1a50",
   "metadata": {},
   "source": [
    "2. Який очікуваний результат наступного фрагмента?\n",
    "![image.png](attachment:d3ec7dc1-ee18-4e54-a024-0e1c5838280c.png)"
   ]
  },
  {
   "cell_type": "code",
   "execution_count": null,
   "id": "d4a96e85-d535-4275-a477-800d01b4e3d9",
   "metadata": {},
   "outputs": [],
   "source": [
    "Enter a number: >? 56\n",
    "<class 'str'>"
   ]
  },
  {
   "cell_type": "code",
   "execution_count": null,
   "id": "7fb3cc7f-a728-471e-9c34-3772f91b7355",
   "metadata": {},
   "outputs": [],
   "source": []
  }
 ],
 "metadata": {
  "kernelspec": {
   "display_name": "Python 3 (ipykernel)",
   "language": "python",
   "name": "python3"
  },
  "language_info": {
   "codemirror_mode": {
    "name": "ipython",
    "version": 3
   },
   "file_extension": ".py",
   "mimetype": "text/x-python",
   "name": "python",
   "nbconvert_exporter": "python",
   "pygments_lexer": "ipython3",
   "version": "3.12.4"
  }
 },
 "nbformat": 4,
 "nbformat_minor": 5
}
